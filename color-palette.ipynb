{
 "cells": [
  {
   "cell_type": "code",
   "execution_count": 1,
   "id": "cf0e9b35-9413-4cbe-93ba-de596b0249b8",
   "metadata": {},
   "outputs": [],
   "source": [
    "import openai"
   ]
  },
  {
   "cell_type": "code",
   "execution_count": 2,
   "id": "4cc472f4-d446-4b7c-a72e-a8eb3f95878d",
   "metadata": {},
   "outputs": [],
   "source": [
    "import json"
   ]
  },
  {
   "cell_type": "code",
   "execution_count": 3,
   "id": "635a1a3c-0b6c-4d23-aaa4-7539a37b8753",
   "metadata": {},
   "outputs": [],
   "source": [
    "from dotenv import dotenv_values"
   ]
  },
  {
   "cell_type": "code",
   "execution_count": 4,
   "id": "0215856e-da0a-4eac-ad8b-e79d7e145376",
   "metadata": {},
   "outputs": [],
   "source": [
    "config=dotenv_values(\".env\")"
   ]
  },
  {
   "cell_type": "code",
   "execution_count": 5,
   "id": "5c332371-2466-412d-84d9-3beaad050d4d",
   "metadata": {},
   "outputs": [],
   "source": [
    "openai.api_key= config[\"OPENAI_API_KEY\"]"
   ]
  },
  {
   "cell_type": "code",
   "execution_count": 6,
   "id": "66c600cf-1ea8-41bc-9936-ba0bf5dbdbf2",
   "metadata": {},
   "outputs": [
    {
     "data": {
      "text/markdown": [
       "<span style = 'color: #124FB4'>████</span> <span style = 'color: #233A8F'>████</span> <span style = 'color: #1F807D'>████</span> <span style = 'color: #7FA0A8'>████</span> <span style = 'color: #E3DFCF'>████</span>"
      ],
      "text/plain": [
       "<IPython.core.display.Markdown object>"
      ]
     },
     "metadata": {},
     "output_type": "display_data"
    }
   ],
   "source": [
    "from IPython.display import Markdown, display\n",
    "def display_colors(colors):\n",
    "    display(Markdown(\" \".join(\n",
    "        f\"<span style = 'color: {color}'>{chr(9608)*4}</span>\"\n",
    "          for color in colors           \n",
    "    )))\n",
    "\n",
    "\n",
    "display_colors([\"#124FB4\", \"#233A8F\", \"#1F807D\", \"#7FA0A8\", \"#E3DFCF\"])"
   ]
  },
  {
   "cell_type": "code",
   "execution_count": 29,
   "id": "9b8282cc-00fe-4f02-88ae-06ae2a90ec2b",
   "metadata": {},
   "outputs": [],
   "source": [
    "def get_and_render_colors_chat(msg):\n",
    "    messages = [\n",
    "        {\"role\":\"system\",\"content\":\"You are a color palette generating assistant that responds to text prompts for color palettes. You should generate color palettes that fit the mood, theme or instructions in the prompt. The palettes should be 5 colors.\"}, \n",
    "        {\"role\":\"user\",\"content\": \"Convert the following verbal description of a color palette into a list of colors: Mint Chocolate Chip\"},\n",
    "        {\"role\":\"assistant\",\"content\": '[\"#72BFA3\",\"#A1DBC0\", \"#9CF6C7\",\"#FBC4C0\"]'},\n",
    "        {\"role\":\"user\",\"content\":\"Convert the following verbal description of a color palette into a list of colors: Key Lime Pie\"},\n",
    "        {\"role\":\"assistant\",\"content\":' [\"#0C0852\",\"#D1E16A\",\"#D5F80F\",\"#F3F3DB\"]'},\n",
    "        {\"role\":\"user\",\"content\":\"Convert the following verbal description of a color palette into a list of colors: Cherry Clafoutis\"},\n",
    "        {\"role\":\"assistant\",\"content\":'[\"#A61025\",\"#F5243c\",\"#ffc5c4\",\"#B3e071\"]'},\n",
    "        {\"role\":\"user\",\"content\":f\"Convert the following verbal description of a color palette into a list of colors:{msg}\"} \n",
    "    ]\n",
    "    response = openai.ChatCompletion.create(\n",
    "        messages=messages,\n",
    "        model= \"gpt-3.5-turbo\",\n",
    "        max_tokens=300,\n",
    "    )\n",
    "  \n",
    "    colors = json.loads(response[\"choices\"][0][\"message\"][\"content\"])\n",
    "    display_colors(colors)"
   ]
  },
  {
   "cell_type": "code",
   "execution_count": 30,
   "id": "7f70edc7-69f8-42de-b4a6-8c02bec2b251",
   "metadata": {},
   "outputs": [
    {
     "data": {
      "text/markdown": [
       "<span style = 'color: #3B2320'>████</span> <span style = 'color: #714139'>████</span> <span style = 'color: #C36B51'>████</span> <span style = 'color: #F7D9AA'>████</span> <span style = 'color: #FCF5E9'>████</span>"
      ],
      "text/plain": [
       "<IPython.core.display.Markdown object>"
      ]
     },
     "metadata": {},
     "output_type": "display_data"
    }
   ],
   "source": [
    "get_and_render_colors_chat(\"root beer float colors\")"
   ]
  },
  {
   "cell_type": "code",
   "execution_count": 31,
   "id": "8f4eaed9-c802-49b0-b0b2-aa30d295bd23",
   "metadata": {},
   "outputs": [
    {
     "data": {
      "text/markdown": [
       "<span style = 'color: #008080'>████</span> <span style = 'color: #00B2B2'>████</span> <span style = 'color: #00CCCC'>████</span> <span style = 'color: #1C6E78'>████</span> <span style = 'color: #375F70'>████</span>"
      ],
      "text/plain": [
       "<IPython.core.display.Markdown object>"
      ]
     },
     "metadata": {},
     "output_type": "display_data"
    }
   ],
   "source": [
    "get_and_render_colors_chat(\"Mediterranean Sea\")"
   ]
  },
  {
   "cell_type": "code",
   "execution_count": 32,
   "id": "7c07e3e8-611a-4ea4-b8e4-43d29b26778b",
   "metadata": {},
   "outputs": [
    {
     "data": {
      "text/markdown": [
       "<span style = 'color: #AF1B21'>████</span> <span style = 'color: #97CC0F'>████</span> <span style = 'color: #DBE351'>████</span> <span style = 'color: #B81F0B'>████</span> <span style = 'color: #87AB1B'>████</span>"
      ],
      "text/plain": [
       "<IPython.core.display.Markdown object>"
      ]
     },
     "metadata": {},
     "output_type": "display_data"
    }
   ],
   "source": [
    "get_and_render_colors_chat(\"radishes and gherkins\")"
   ]
  },
  {
   "cell_type": "code",
   "execution_count": 34,
   "id": "a8e78035-c0ff-4042-83cd-4b8f17caf190",
   "metadata": {},
   "outputs": [
    {
     "data": {
      "text/markdown": [
       "<span style = 'color: #FDD7E4'>████</span> <span style = 'color: #FFB6C1'>████</span> <span style = 'color: #FF93A9'>████</span> <span style = 'color: #9AC1D1'>████</span> <span style = 'color: #00CCCC'>████</span>"
      ],
      "text/plain": [
       "<IPython.core.display.Markdown object>"
      ]
     },
     "metadata": {},
     "output_type": "display_data"
    }
   ],
   "source": [
    "get_and_render_colors_chat(\"cherry blossoms and robin's eggs and roses\")"
   ]
  },
  {
   "cell_type": "code",
   "execution_count": null,
   "id": "e4b1270d-c111-4e68-8987-01dd1d69b04a",
   "metadata": {},
   "outputs": [],
   "source": []
  }
 ],
 "metadata": {
  "kernelspec": {
   "display_name": "Python 3 (ipykernel)",
   "language": "python",
   "name": "python3"
  },
  "language_info": {
   "codemirror_mode": {
    "name": "ipython",
    "version": 3
   },
   "file_extension": ".py",
   "mimetype": "text/x-python",
   "name": "python",
   "nbconvert_exporter": "python",
   "pygments_lexer": "ipython3",
   "version": "3.10.9"
  }
 },
 "nbformat": 4,
 "nbformat_minor": 5
}
